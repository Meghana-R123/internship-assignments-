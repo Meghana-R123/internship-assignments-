{
 "cells": [
  {
   "cell_type": "code",
   "execution_count": 1,
   "id": "dbb516f4-1758-47bb-a850-338311ac4ba2",
   "metadata": {},
   "outputs": [],
   "source": [
    "import numpy as np\n",
    "import matplotlib.pyplot as plt\n",
    "\n",
    "# XOR dataset\n",
    "X = np.array([[0, 0],\n",
    "              [0, 1],\n",
    "              [1, 0],\n",
    "              [1, 1]])\n",
    "y = np.array([[0], [1], [1], [0]])  # XOR output\n"
   ]
  },
  {
   "cell_type": "code",
   "execution_count": 2,
   "id": "2ce38629-b794-429d-9b4f-ba3064ae408b",
   "metadata": {},
   "outputs": [],
   "source": [
    "def sigmoid(x):\n",
    "    return 1 / (1 + np.exp(-x))\n",
    "\n",
    "def sigmoid_deriv(x):\n",
    "    return x * (1 - x)\n"
   ]
  },
  {
   "cell_type": "code",
   "execution_count": 3,
   "id": "534b2384-e78b-4fa9-bc29-f0baaea284a9",
   "metadata": {},
   "outputs": [],
   "source": [
    "np.random.seed(42)\n",
    "\n",
    "input_size = 2\n",
    "hidden_size = 4\n",
    "output_size = 1\n",
    "lr = 0.1\n",
    "epochs = 10000\n",
    "\n",
    "# Initialize weights and biases\n",
    "w1 = np.random.randn(input_size, hidden_size)\n",
    "b1 = np.zeros((1, hidden_size))\n",
    "w2 = np.random.randn(hidden_size, output_size)\n",
    "b2 = np.zeros((1, output_size))\n"
   ]
  },
  {
   "cell_type": "code",
   "execution_count": 4,
   "id": "c0dd37f7-a0e7-4598-9efe-c1187ce6367a",
   "metadata": {},
   "outputs": [
    {
     "name": "stdout",
     "output_type": "stream",
     "text": [
      "Epoch 0, Loss: 0.2832\n",
      "Epoch 1000, Loss: 0.2452\n",
      "Epoch 2000, Loss: 0.2124\n",
      "Epoch 3000, Loss: 0.1503\n",
      "Epoch 4000, Loss: 0.0572\n",
      "Epoch 5000, Loss: 0.0209\n",
      "Epoch 6000, Loss: 0.0107\n",
      "Epoch 7000, Loss: 0.0067\n",
      "Epoch 8000, Loss: 0.0047\n",
      "Epoch 9000, Loss: 0.0035\n"
     ]
    }
   ],
   "source": [
    "for epoch in range(epochs):\n",
    "    # Forward pass\n",
    "    z1 = np.dot(X, w1) + b1\n",
    "    a1 = sigmoid(z1)\n",
    "    z2 = np.dot(a1, w2) + b2\n",
    "    a2 = sigmoid(z2)\n",
    "\n",
    "    # Loss (Mean Squared Error)\n",
    "    loss = np.mean((y - a2) ** 2)\n",
    "\n",
    "    # Backpropagation\n",
    "    error = y - a2\n",
    "    d_output = error * sigmoid_deriv(a2)\n",
    "\n",
    "    d_hidden = np.dot(d_output, w2.T) * sigmoid_deriv(a1)\n",
    "\n",
    "    # Update weights and biases\n",
    "    w2 += np.dot(a1.T, d_output) * lr\n",
    "    b2 += np.sum(d_output, axis=0, keepdims=True) * lr\n",
    "    w1 += np.dot(X.T, d_hidden) * lr\n",
    "    b1 += np.sum(d_hidden, axis=0, keepdims=True) * lr\n",
    "\n",
    "    if epoch % 1000 == 0:\n",
    "        print(f\"Epoch {epoch}, Loss: {loss:.4f}\")\n"
   ]
  },
  {
   "cell_type": "code",
   "execution_count": 5,
   "id": "fd8433de-1264-44ce-bfe0-8e8f0f57b22f",
   "metadata": {},
   "outputs": [
    {
     "data": {
      "image/png": "[encoded data removed]",
      "text/plain": [
       "<Figure size 640x480 with 1 Axes>"
      ]
     },
     "metadata": {},
     "output_type": "display_data"
    }
   ],
   "source": [
    "# Create meshgrid\n",
    "xx, yy = np.meshgrid(np.linspace(0, 1, 100), np.linspace(0, 1, 100))\n",
    "grid = np.c_[xx.ravel(), yy.ravel()]\n",
    "\n",
    "# Forward pass for grid\n",
    "z1 = np.dot(grid, w1) + b1\n",
    "a1 = sigmoid(z1)\n",
    "z2 = np.dot(a1, w2) + b2\n",
    "a2 = sigmoid(z2)\n",
    "Z = a2.reshape(xx.shape)\n",
    "\n",
    "# Plotting\n",
    "plt.contourf(xx, yy, Z, levels=[0, 0.5, 1], alpha=0.6, cmap='coolwarm')\n",
    "plt.scatter(X[:,0], X[:,1], c=y.flatten(), cmap='coolwarm', edgecolors='k', s=100)\n",
    "plt.title(\"Decision Boundary of MLP on XOR\")\n",
    "plt.xlabel(\"Input 1\")\n",
    "plt.ylabel(\"Input 2\")\n",
    "plt.grid(True)\n",
    "plt.show()\n"
   ]
  },
  {
   "cell_type": "code",
   "execution_count": null,
   "id": "540a46bf-01ff-40d1-bbe0-368c555b2470",
   "metadata": {},
   "outputs": [],
   "source": []
  }
 ],
 "metadata": {
  "kernelspec": {
   "display_name": "Python [conda env:base] *",
   "language": "python",
   "name": "conda-base-py"
  },
  "language_info": {
   "codemirror_mode": {
    "name": "ipython",
    "version": 3
   },
   "file_extension": ".py",
   "mimetype": "text/x-python",
   "name": "python",
   "nbconvert_exporter": "python",
   "pygments_lexer": "ipython3",
   "version": "3.12.7"
  }
 },
 "nbformat": 4,
 "nbformat_minor": 5
}
